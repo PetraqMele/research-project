{
 "cells": [
  {
   "cell_type": "code",
   "execution_count": 4,
   "id": "bca98209-36cf-4b08-85a7-bba9547b8e26",
   "metadata": {},
   "outputs": [
    {
     "name": "stdout",
     "output_type": "stream",
     "text": [
      "       ag_id               ag_name  ag_long  ag_lat  ag_flux_peak  \\\n",
      "3555  AG3556  AGAL359.999+00.129_S  359.999   0.129          0.97   \n",
      "\n",
      "     classification      Vc  nNL  tau  dtau  ... h41a_fwhm  h41a_dfwhm  \\\n",
      "3555              H  106.41    5  0.0   0.0  ...       0.0         0.0   \n",
      "\n",
      "      h41a_ii  h41a_dii  h41a_signoise  h41a_Pfit  h41a_iisnr  h41a_Rf  \\\n",
      "3555      0.0       0.0            0.0        0.0         0.0      0.0   \n",
      "\n",
      "      h41a_HR  h41a_Rs  \n",
      "3555        0       33  \n",
      "\n",
      "[1 rows x 266 columns]\n"
     ]
    }
   ],
   "source": [
    "import pandas as pd\n",
    "\n",
    "df = pd.read_csv('malt90lineinfo.csv')\n",
    "print(df.tail(1))"
   ]
  },
  {
   "cell_type": "code",
   "execution_count": 12,
   "id": "37573766-c78d-409d-91a2-cf76807d8558",
   "metadata": {},
   "outputs": [
    {
     "name": "stdout",
     "output_type": "stream",
     "text": [
      "       ag_id classification  hcop_ii\n",
      "0     AG0001              P   11.020\n",
      "1     AG0002              P    1.158\n",
      "2     AG0003              U    5.388\n",
      "3     AG0004              U   13.832\n",
      "4     AG0005              Q    6.828\n",
      "...      ...            ...      ...\n",
      "3551  AG3552              U   18.976\n",
      "3552  AG3553              U   25.467\n",
      "3553  AG3554              H   16.367\n",
      "3554  AG3555              Q    3.546\n",
      "3555  AG3556              H   12.704\n",
      "\n",
      "[3556 rows x 3 columns]\n"
     ]
    }
   ],
   "source": [
    "print(df[['ag_id','classification', 'hcop_ii',]])"
   ]
  },
  {
   "cell_type": "code",
   "execution_count": null,
   "id": "ca89bf97-bd8a-4b62-8911-41819208bb09",
   "metadata": {},
   "outputs": [],
   "source": []
  }
 ],
 "metadata": {
  "kernelspec": {
   "display_name": "Python 3 (ipykernel)",
   "language": "python",
   "name": "python3"
  },
  "language_info": {
   "codemirror_mode": {
    "name": "ipython",
    "version": 3
   },
   "file_extension": ".py",
   "mimetype": "text/x-python",
   "name": "python",
   "nbconvert_exporter": "python",
   "pygments_lexer": "ipython3",
   "version": "3.12.4"
  }
 },
 "nbformat": 4,
 "nbformat_minor": 5
}
