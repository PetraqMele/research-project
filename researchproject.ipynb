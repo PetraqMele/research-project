{
 "cells": [
  {
   "cell_type": "code",
   "execution_count": 10,
   "id": "7209ba54-f815-403b-9de2-887164b9125d",
   "metadata": {},
   "outputs": [
    {
     "name": "stdout",
     "output_type": "stream",
     "text": [
      "3556\n"
     ]
    },
    {
     "ename": "KeyError",
     "evalue": "1",
     "output_type": "error",
     "traceback": [
      "\u001b[1;31m---------------------------------------------------------------------------\u001b[0m",
      "\u001b[1;31mKeyError\u001b[0m                                  Traceback (most recent call last)",
      "File \u001b[1;32mC:\\anaconda\\Lib\\site-packages\\pandas\\core\\indexes\\base.py:3805\u001b[0m, in \u001b[0;36mIndex.get_loc\u001b[1;34m(self, key)\u001b[0m\n\u001b[0;32m   3804\u001b[0m \u001b[38;5;28;01mtry\u001b[39;00m:\n\u001b[1;32m-> 3805\u001b[0m     \u001b[38;5;28;01mreturn\u001b[39;00m \u001b[38;5;28mself\u001b[39m\u001b[38;5;241m.\u001b[39m_engine\u001b[38;5;241m.\u001b[39mget_loc(casted_key)\n\u001b[0;32m   3806\u001b[0m \u001b[38;5;28;01mexcept\u001b[39;00m \u001b[38;5;167;01mKeyError\u001b[39;00m \u001b[38;5;28;01mas\u001b[39;00m err:\n",
      "File \u001b[1;32mindex.pyx:167\u001b[0m, in \u001b[0;36mpandas._libs.index.IndexEngine.get_loc\u001b[1;34m()\u001b[0m\n",
      "File \u001b[1;32mindex.pyx:196\u001b[0m, in \u001b[0;36mpandas._libs.index.IndexEngine.get_loc\u001b[1;34m()\u001b[0m\n",
      "File \u001b[1;32mpandas\\\\_libs\\\\hashtable_class_helper.pxi:7081\u001b[0m, in \u001b[0;36mpandas._libs.hashtable.PyObjectHashTable.get_item\u001b[1;34m()\u001b[0m\n",
      "File \u001b[1;32mpandas\\\\_libs\\\\hashtable_class_helper.pxi:7089\u001b[0m, in \u001b[0;36mpandas._libs.hashtable.PyObjectHashTable.get_item\u001b[1;34m()\u001b[0m\n",
      "\u001b[1;31mKeyError\u001b[0m: 1",
      "\nThe above exception was the direct cause of the following exception:\n",
      "\u001b[1;31mKeyError\u001b[0m                                  Traceback (most recent call last)",
      "Cell \u001b[1;32mIn[10], line 43\u001b[0m\n\u001b[0;32m     31\u001b[0m \u001b[38;5;66;03m#print(ii)\u001b[39;00m\n\u001b[0;32m     32\u001b[0m \u001b[38;5;66;03m#ii['hcop_ii/hnc_ii']= ii['hcop_ii'] / ii['hnc_ii']\u001b[39;00m\n\u001b[0;32m     33\u001b[0m \u001b[38;5;66;03m#print(ii['hcop_ii/hnc_ii'])\u001b[39;00m\n\u001b[1;32m   (...)\u001b[0m\n\u001b[0;32m     40\u001b[0m \u001b[38;5;66;03m#aGroup = classGroup.get_group(\"A\")\u001b[39;00m\n\u001b[0;32m     41\u001b[0m \u001b[38;5;66;03m#cGroup = classGroup.get_group(\"C\")\u001b[39;00m\n\u001b[0;32m     42\u001b[0m \u001b[38;5;28;01mfor\u001b[39;00m i \u001b[38;5;129;01min\u001b[39;00m \u001b[38;5;28mrange\u001b[39m(\u001b[38;5;241m2\u001b[39m, \u001b[38;5;241m14\u001b[39m):\n\u001b[1;32m---> 43\u001b[0m     ii[\u001b[38;5;124m'\u001b[39m\u001b[38;5;124mdata\u001b[39m\u001b[38;5;124m'\u001b[39m] \u001b[38;5;241m=\u001b[39m ii[i\u001b[38;5;241m-\u001b[39m\u001b[38;5;241m1\u001b[39m] \u001b[38;5;241m/\u001b[39m ii[i]\n\u001b[0;32m     44\u001b[0m     ii\u001b[38;5;241m.\u001b[39mdropna(subset\u001b[38;5;241m=\u001b[39m[\u001b[38;5;124m'\u001b[39m\u001b[38;5;124mdata\u001b[39m\u001b[38;5;124m'\u001b[39m])\n\u001b[0;32m     45\u001b[0m     ii\u001b[38;5;241m.\u001b[39mboxplot(column\u001b[38;5;241m=\u001b[39m\u001b[38;5;124m'\u001b[39m\u001b[38;5;124mdata\u001b[39m\u001b[38;5;124m'\u001b[39m, by\u001b[38;5;241m=\u001b[39m\u001b[38;5;124m'\u001b[39m\u001b[38;5;124mclassification\u001b[39m\u001b[38;5;124m'\u001b[39m, showfliers\u001b[38;5;241m=\u001b[39m\u001b[38;5;28;01mFalse\u001b[39;00m)\n",
      "File \u001b[1;32mC:\\anaconda\\Lib\\site-packages\\pandas\\core\\frame.py:4102\u001b[0m, in \u001b[0;36mDataFrame.__getitem__\u001b[1;34m(self, key)\u001b[0m\n\u001b[0;32m   4100\u001b[0m \u001b[38;5;28;01mif\u001b[39;00m \u001b[38;5;28mself\u001b[39m\u001b[38;5;241m.\u001b[39mcolumns\u001b[38;5;241m.\u001b[39mnlevels \u001b[38;5;241m>\u001b[39m \u001b[38;5;241m1\u001b[39m:\n\u001b[0;32m   4101\u001b[0m     \u001b[38;5;28;01mreturn\u001b[39;00m \u001b[38;5;28mself\u001b[39m\u001b[38;5;241m.\u001b[39m_getitem_multilevel(key)\n\u001b[1;32m-> 4102\u001b[0m indexer \u001b[38;5;241m=\u001b[39m \u001b[38;5;28mself\u001b[39m\u001b[38;5;241m.\u001b[39mcolumns\u001b[38;5;241m.\u001b[39mget_loc(key)\n\u001b[0;32m   4103\u001b[0m \u001b[38;5;28;01mif\u001b[39;00m is_integer(indexer):\n\u001b[0;32m   4104\u001b[0m     indexer \u001b[38;5;241m=\u001b[39m [indexer]\n",
      "File \u001b[1;32mC:\\anaconda\\Lib\\site-packages\\pandas\\core\\indexes\\base.py:3812\u001b[0m, in \u001b[0;36mIndex.get_loc\u001b[1;34m(self, key)\u001b[0m\n\u001b[0;32m   3807\u001b[0m     \u001b[38;5;28;01mif\u001b[39;00m \u001b[38;5;28misinstance\u001b[39m(casted_key, \u001b[38;5;28mslice\u001b[39m) \u001b[38;5;129;01mor\u001b[39;00m (\n\u001b[0;32m   3808\u001b[0m         \u001b[38;5;28misinstance\u001b[39m(casted_key, abc\u001b[38;5;241m.\u001b[39mIterable)\n\u001b[0;32m   3809\u001b[0m         \u001b[38;5;129;01mand\u001b[39;00m \u001b[38;5;28many\u001b[39m(\u001b[38;5;28misinstance\u001b[39m(x, \u001b[38;5;28mslice\u001b[39m) \u001b[38;5;28;01mfor\u001b[39;00m x \u001b[38;5;129;01min\u001b[39;00m casted_key)\n\u001b[0;32m   3810\u001b[0m     ):\n\u001b[0;32m   3811\u001b[0m         \u001b[38;5;28;01mraise\u001b[39;00m InvalidIndexError(key)\n\u001b[1;32m-> 3812\u001b[0m     \u001b[38;5;28;01mraise\u001b[39;00m \u001b[38;5;167;01mKeyError\u001b[39;00m(key) \u001b[38;5;28;01mfrom\u001b[39;00m \u001b[38;5;21;01merr\u001b[39;00m\n\u001b[0;32m   3813\u001b[0m \u001b[38;5;28;01mexcept\u001b[39;00m \u001b[38;5;167;01mTypeError\u001b[39;00m:\n\u001b[0;32m   3814\u001b[0m     \u001b[38;5;66;03m# If we have a listlike key, _check_indexing_error will raise\u001b[39;00m\n\u001b[0;32m   3815\u001b[0m     \u001b[38;5;66;03m#  InvalidIndexError. Otherwise we fall through and re-raise\u001b[39;00m\n\u001b[0;32m   3816\u001b[0m     \u001b[38;5;66;03m#  the TypeError.\u001b[39;00m\n\u001b[0;32m   3817\u001b[0m     \u001b[38;5;28mself\u001b[39m\u001b[38;5;241m.\u001b[39m_check_indexing_error(key)\n",
      "\u001b[1;31mKeyError\u001b[0m: 1"
     ]
    }
   ],
   "source": [
    "import pandas as pd\n",
    "import matplotlib.pyplot as plt\n",
    "df = pd.read_csv('malt90lineinfo.csv') # read the csv file, this has a delimiter of ','\n",
    "p = 0\n",
    "u = 0\n",
    "q = 0\n",
    "h = 0\n",
    "a = 0\n",
    "c = 0\n",
    "#print(df.columns.get_loc('classification')) # gives index location\n",
    "#print(df.index)# gives range of rows\n",
    "#print(df.columns) #gives the columns\n",
    "#df.loc[:, 'classification']\n",
    "for i in df.index:\n",
    "    if (df.loc[i, 'classification'] == 'P'):\n",
    "        p += 1    \n",
    "    elif (df.loc[i, 'classification'] == 'U'):\n",
    "        u += 1\n",
    "    elif (df.loc[i, 'classification'] == 'Q'):\n",
    "        q += 1\n",
    "    elif (df.loc[i, 'classification'] == 'H'):\n",
    "        h += 1\n",
    "    elif (df.loc[i, 'classification'] == 'A'):\n",
    "        a += 1\n",
    "    elif (df.loc[i, 'classification'] == 'C'):\n",
    "        c += 1\n",
    "print((p+u+q+h+a+c))\n",
    "#print(df.describe()) # gives you a bunch of info about each column, mean, wtd, min, max, ect.\n",
    "#Iterate through the classifications column to find out all the classifications\n",
    "ii = df[['classification','hcop_ii', 'hnc_ii', 'h13cop_ii','hn13c_ii', '13cs_ii','13c34s_ii', 'hc13ccn_ii', 'hnco404_ii','ch3cn_ii','hc3n_ii','hnco413_ii','c2h_ii','sio_ii','h41a_ii']].copy()\n",
    "#print(ii)\n",
    "#ii['hcop_ii/hnc_ii']= ii['hcop_ii'] / ii['hnc_ii']\n",
    "#print(ii['hcop_ii/hnc_ii'])\n",
    "\n",
    "#classGroup = df.groupby(df.classification)\n",
    "#pGroup = classGroup.get_group(\"P\")\n",
    "#uGroup = classGroup.get_group(\"U\")\n",
    "#qGroup = classGroup.get_group(\"Q\")\n",
    "#hGroup = classGroup.get_group(\"H\")\n",
    "#aGroup = classGroup.get_group(\"A\")\n",
    "#cGroup = classGroup.get_group(\"C\")\n",
    "for i in range(2, 14):\n",
    "    ii['data'] = ii[i-1] / ii[i]\n",
    "    ii.dropna(subset=['data'])\n",
    "    ii.boxplot(column='data', by='classification', showfliers=False)\n",
    "    plt.show()\n",
    "    \n",
    "\n",
    "\n",
    "\n",
    "\n",
    "#add up the integrated intensities of every element with respect to their classifications,\n",
    "#put it all into another dataframe\n",
    "#take the ratios between the integrated intensities of multiple different molecules\n",
    "#find out how to put them into a graph like the one in the research paper.\n",
    "\n",
    "#figure out how to drop zero values\n",
    "#sort by stage (Q, A, C, H, P, U)\n",
    "# add another data P+U\n",
    "#Go through all of the combinations, analyze, ask queries\n",
    "#find pvalues between 3 main stages\n",
    "# Are the II 0 because \n",
    "\n",
    "\n",
    "\n",
    "\n"
   ]
  },
  {
   "cell_type": "code",
   "execution_count": null,
   "id": "0e4bdb09-ca6c-4e1a-9fa9-933fb2c65569",
   "metadata": {},
   "outputs": [],
   "source": []
  },
  {
   "cell_type": "code",
   "execution_count": null,
   "id": "d493204d-606c-4ca3-ad4a-5c8ea3669430",
   "metadata": {},
   "outputs": [],
   "source": []
  }
 ],
 "metadata": {
  "kernelspec": {
   "display_name": "Python 3 (ipykernel)",
   "language": "python",
   "name": "python3"
  },
  "language_info": {
   "codemirror_mode": {
    "name": "ipython",
    "version": 3
   },
   "file_extension": ".py",
   "mimetype": "text/x-python",
   "name": "python",
   "nbconvert_exporter": "python",
   "pygments_lexer": "ipython3",
   "version": "3.12.4"
  }
 },
 "nbformat": 4,
 "nbformat_minor": 5
}
